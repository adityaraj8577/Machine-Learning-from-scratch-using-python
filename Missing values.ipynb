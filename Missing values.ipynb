{
 "cells": [
  {
   "cell_type": "markdown",
   "id": "ce880661",
   "metadata": {},
   "source": [
    "# Simply dropping the coulmn"
   ]
  },
  {
   "cell_type": "code",
   "execution_count": 1,
   "id": "7d3b6cb1",
   "metadata": {},
   "outputs": [
    {
     "ename": "NameError",
     "evalue": "name 'X_train' is not defined",
     "output_type": "error",
     "traceback": [
      "\u001b[1;31m---------------------------------------------------------------------------\u001b[0m",
      "\u001b[1;31mNameError\u001b[0m                                 Traceback (most recent call last)",
      "Cell \u001b[1;32mIn[1], line 1\u001b[0m\n\u001b[1;32m----> 1\u001b[0m cols_with_missing \u001b[38;5;241m=\u001b[39m [col \u001b[38;5;28;01mfor\u001b[39;00m col \u001b[38;5;129;01min\u001b[39;00m X_train\u001b[38;5;241m.\u001b[39mcolumns\n\u001b[0;32m      2\u001b[0m                     \u001b[38;5;28;01mif\u001b[39;00m X_train[col]\u001b[38;5;241m.\u001b[39misnull()\u001b[38;5;241m.\u001b[39msum()\u001b[38;5;241m.\u001b[39many()]\n",
      "\u001b[1;31mNameError\u001b[0m: name 'X_train' is not defined"
     ]
    }
   ],
   "source": [
    "cols_with_missing = [col for col in X_train.columns\n",
    "                    if X_train[col].isnull().sum().any()]"
   ]
  },
  {
   "cell_type": "code",
   "execution_count": null,
   "id": "fe9ed880",
   "metadata": {},
   "outputs": [],
   "source": [
    "reduced_X_train = X_train.drop(cols_with_missing,axis=1)\n",
    "reduced_X_test = X_test.drop(cols_with_missing,axis=1)\n",
    "\n",
    "\n",
    "# IMPUTER\n",
    "ny_imputer  = SimpleImputer()\n",
    "imputed_X_train = pd.DataFrame(my_imputer.fit_transform(X_train))\n",
    "imputed_X_test = pd.DataFrame(my_imputer.fit_transform(X_test))\n",
    "\n",
    "\n",
    "\n",
    "# Extended IMPUTER\n",
    "# Here what happens is while imputing the values, we also keep the track of which values were imputed\n",
    "X_train_plus = X_train.copy()\n",
    "X_test_plus = X_test.copy()\n",
    "\n",
    " # make new column indicating what will be imputed \n",
    "for col in cols_with_missing:\n",
    "    X_train_plus[col+'_was_missing'] = X_train_plus[col].isnull()\n",
    "    X_test_plus[col+'_was_missing'] = X_test_plus[col].isnull()\n",
    "    \n",
    "my_imputer = SimpleImputer()\n",
    "imputed_X_train_plus = pd.DataFrame(my_imputer.fit_transform(X_train_plus))\n",
    "imputed_X_test_plus = pd.DataFrame(my_imputer.fit_transform(X_test_plus))\n"
   ]
  }
 ],
 "metadata": {
  "kernelspec": {
   "display_name": "Python 3 (ipykernel)",
   "language": "python",
   "name": "python3"
  },
  "language_info": {
   "codemirror_mode": {
    "name": "ipython",
    "version": 3
   },
   "file_extension": ".py",
   "mimetype": "text/x-python",
   "name": "python",
   "nbconvert_exporter": "python",
   "pygments_lexer": "ipython3",
   "version": "3.11.5"
  }
 },
 "nbformat": 4,
 "nbformat_minor": 5
}
