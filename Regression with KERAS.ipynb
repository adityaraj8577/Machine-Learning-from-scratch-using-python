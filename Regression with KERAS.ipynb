{
 "cells": [
  {
   "cell_type": "code",
   "execution_count": 1,
   "id": "c9c8f96c",
   "metadata": {},
   "outputs": [],
   "source": [
    "import pandas as pd\n",
    "import numpy as np\n",
    "import matplotlib.pyplot as plt\n",
    "import sklearn"
   ]
  },
  {
   "cell_type": "code",
   "execution_count": 2,
   "id": "17778c0d",
   "metadata": {},
   "outputs": [],
   "source": [
    "from sklearn.model_selection import train_test_split\n",
    "from sklearn.metrics import mean_squared_error\n",
    "from math import sqrt"
   ]
  },
  {
   "cell_type": "code",
   "execution_count": null,
   "id": "bc315409",
   "metadata": {},
   "outputs": [],
   "source": [
    "!pip install keras\n",
    "!pip install tensorflow\n",
    "import keras\n",
    "from keras.models import Sequential\n",
    "from keras.layers import Dense"
   ]
  },
  {
   "cell_type": "code",
   "execution_count": null,
   "id": "6a172ff2",
   "metadata": {},
   "outputs": [],
   "source": [
    "df = pd.read_csv()\n",
    "print(df.shape)\n",
    "df.describe()"
   ]
  },
  {
   "cell_type": "code",
   "execution_count": null,
   "id": "4f4de297",
   "metadata": {},
   "outputs": [],
   "source": []
  },
  {
   "cell_type": "code",
   "execution_count": null,
   "id": "204f8cfa",
   "metadata": {},
   "outputs": [],
   "source": [
    "target_column = ['unemploy']\n",
    "predictors = df.drop('unemploy',axis=1)\n",
    "df[predictors] = df[predictors]/df[predictors].max()\n",
    "df.descibe()\n",
    "# This line is uesd for normalizing the the data, this is because the units\n",
    "# of the variables differ significantly and may influence the modelling process\n",
    "# to prevent this ,  we will do the normalization via scaling of the predictors\n",
    "# between 0 and 1"
   ]
  },
  {
   "cell_type": "code",
   "execution_count": null,
   "id": "bb806742",
   "metadata": {},
   "outputs": [],
   "source": [
    "X = df.predictors.values\n",
    "y = df.target_column.values\n",
    "X_train, X_test, y_train, y_test = train_test_split(X, y, test_size=0.30, random_state=40)\n",
    "print(X_train.shape); print(X_test.shape)"
   ]
  },
  {
   "cell_type": "code",
   "execution_count": null,
   "id": "f5e03fb1",
   "metadata": {},
   "outputs": [],
   "source": [
    "model = Sequential()\n",
    "model.add(Dense(500,input_dim=4,activation='relu'))\n",
    "model.add(Dense(100,activation='relu'))\n",
    "model.add(Dense(50,activation='relu'))\n",
    "model.add(Dense(1))"
   ]
  },
  {
   "cell_type": "code",
   "execution_count": null,
   "id": "8eead6a5",
   "metadata": {},
   "outputs": [],
   "source": [
    "#The first line of code below calls for the Sequential constructor. Note that we would be using \n",
    "#the Sequential model because our network consists of a linear stack of layers."
   ]
  },
  {
   "cell_type": "code",
   "execution_count": null,
   "id": "da67324a",
   "metadata": {},
   "outputs": [],
   "source": [
    "model.complile(loss='mean_squared_error',optimizer='adam',metrics=['mean_squared_error'])\n",
    "model.fit(X_train,y_train,epochs=20)\n"
   ]
  },
  {
   "cell_type": "code",
   "execution_count": 7,
   "id": "7838bfe3",
   "metadata": {},
   "outputs": [],
   "source": [
    "# prediction on the test data and compute evaluatio metrics"
   ]
  },
  {
   "cell_type": "code",
   "execution_count": null,
   "id": "68918084",
   "metadata": {},
   "outputs": [],
   "source": [
    "pred_train = model.predict(X_train)\n",
    "np.sqrt(mean_squared_error(y_train,pred_train))\n",
    "\n",
    "pred_test = model.predict(X_test)\n",
    "np.sqrt(mean_squared_error(y_test,pred))"
   ]
  },
  {
   "cell_type": "code",
   "execution_count": null,
   "id": "84177e5f",
   "metadata": {},
   "outputs": [],
   "source": []
  },
  {
   "cell_type": "code",
   "execution_count": null,
   "id": "7ebebf69",
   "metadata": {},
   "outputs": [],
   "source": []
  }
 ],
 "metadata": {
  "kernelspec": {
   "display_name": "Python 3 (ipykernel)",
   "language": "python",
   "name": "python3"
  },
  "language_info": {
   "codemirror_mode": {
    "name": "ipython",
    "version": 3
   },
   "file_extension": ".py",
   "mimetype": "text/x-python",
   "name": "python",
   "nbconvert_exporter": "python",
   "pygments_lexer": "ipython3",
   "version": "3.11.5"
  }
 },
 "nbformat": 4,
 "nbformat_minor": 5
}
