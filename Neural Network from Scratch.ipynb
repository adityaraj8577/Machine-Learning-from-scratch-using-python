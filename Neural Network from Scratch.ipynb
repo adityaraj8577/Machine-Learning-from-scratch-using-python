{
 "cells": [
  {
   "cell_type": "code",
   "execution_count": 1,
   "id": "3042928c",
   "metadata": {},
   "outputs": [],
   "source": [
    "import numpy as np\n",
    "import pandas as pd\n",
    "import matplotlib.pyplot as plt"
   ]
  },
  {
   "cell_type": "code",
   "execution_count": 3,
   "id": "1a451809",
   "metadata": {},
   "outputs": [],
   "source": [
    "X = np.vstack([(np.random.rand(10,2)*5),(np.random.rand(10,2)*10)])\n",
    "Y = np.hstack([[0]*10,[1]*10])\n",
    "\n",
    "dataset = pd.DataFrame(X,columns=['X1',\"X2\"])\n",
    "dataset['Y']=Y"
   ]
  },
  {
   "cell_type": "code",
   "execution_count": 4,
   "id": "d48dc99f",
   "metadata": {},
   "outputs": [
    {
     "data": {
      "text/html": [
       "<div>\n",
       "<style scoped>\n",
       "    .dataframe tbody tr th:only-of-type {\n",
       "        vertical-align: middle;\n",
       "    }\n",
       "\n",
       "    .dataframe tbody tr th {\n",
       "        vertical-align: top;\n",
       "    }\n",
       "\n",
       "    .dataframe thead th {\n",
       "        text-align: right;\n",
       "    }\n",
       "</style>\n",
       "<table border=\"1\" class=\"dataframe\">\n",
       "  <thead>\n",
       "    <tr style=\"text-align: right;\">\n",
       "      <th></th>\n",
       "      <th>X1</th>\n",
       "      <th>X2</th>\n",
       "      <th>Y</th>\n",
       "    </tr>\n",
       "  </thead>\n",
       "  <tbody>\n",
       "    <tr>\n",
       "      <th>0</th>\n",
       "      <td>4.011861</td>\n",
       "      <td>1.674061</td>\n",
       "      <td>0</td>\n",
       "    </tr>\n",
       "    <tr>\n",
       "      <th>1</th>\n",
       "      <td>4.700434</td>\n",
       "      <td>1.220296</td>\n",
       "      <td>0</td>\n",
       "    </tr>\n",
       "    <tr>\n",
       "      <th>2</th>\n",
       "      <td>0.639354</td>\n",
       "      <td>1.905050</td>\n",
       "      <td>0</td>\n",
       "    </tr>\n",
       "    <tr>\n",
       "      <th>3</th>\n",
       "      <td>1.000830</td>\n",
       "      <td>3.683078</td>\n",
       "      <td>0</td>\n",
       "    </tr>\n",
       "    <tr>\n",
       "      <th>4</th>\n",
       "      <td>1.313663</td>\n",
       "      <td>4.175309</td>\n",
       "      <td>0</td>\n",
       "    </tr>\n",
       "    <tr>\n",
       "      <th>5</th>\n",
       "      <td>2.078587</td>\n",
       "      <td>0.977523</td>\n",
       "      <td>0</td>\n",
       "    </tr>\n",
       "    <tr>\n",
       "      <th>6</th>\n",
       "      <td>2.496509</td>\n",
       "      <td>1.537792</td>\n",
       "      <td>0</td>\n",
       "    </tr>\n",
       "    <tr>\n",
       "      <th>7</th>\n",
       "      <td>1.492593</td>\n",
       "      <td>2.861047</td>\n",
       "      <td>0</td>\n",
       "    </tr>\n",
       "    <tr>\n",
       "      <th>8</th>\n",
       "      <td>4.843101</td>\n",
       "      <td>1.984147</td>\n",
       "      <td>0</td>\n",
       "    </tr>\n",
       "    <tr>\n",
       "      <th>9</th>\n",
       "      <td>4.981371</td>\n",
       "      <td>4.275560</td>\n",
       "      <td>0</td>\n",
       "    </tr>\n",
       "    <tr>\n",
       "      <th>10</th>\n",
       "      <td>0.304906</td>\n",
       "      <td>5.630595</td>\n",
       "      <td>1</td>\n",
       "    </tr>\n",
       "    <tr>\n",
       "      <th>11</th>\n",
       "      <td>3.560948</td>\n",
       "      <td>0.282047</td>\n",
       "      <td>1</td>\n",
       "    </tr>\n",
       "    <tr>\n",
       "      <th>12</th>\n",
       "      <td>0.495990</td>\n",
       "      <td>1.279386</td>\n",
       "      <td>1</td>\n",
       "    </tr>\n",
       "    <tr>\n",
       "      <th>13</th>\n",
       "      <td>6.467659</td>\n",
       "      <td>8.968539</td>\n",
       "      <td>1</td>\n",
       "    </tr>\n",
       "    <tr>\n",
       "      <th>14</th>\n",
       "      <td>1.087504</td>\n",
       "      <td>6.748963</td>\n",
       "      <td>1</td>\n",
       "    </tr>\n",
       "    <tr>\n",
       "      <th>15</th>\n",
       "      <td>3.037362</td>\n",
       "      <td>8.563171</td>\n",
       "      <td>1</td>\n",
       "    </tr>\n",
       "    <tr>\n",
       "      <th>16</th>\n",
       "      <td>8.612253</td>\n",
       "      <td>0.295559</td>\n",
       "      <td>1</td>\n",
       "    </tr>\n",
       "    <tr>\n",
       "      <th>17</th>\n",
       "      <td>3.517924</td>\n",
       "      <td>4.003783</td>\n",
       "      <td>1</td>\n",
       "    </tr>\n",
       "    <tr>\n",
       "      <th>18</th>\n",
       "      <td>6.287110</td>\n",
       "      <td>2.736571</td>\n",
       "      <td>1</td>\n",
       "    </tr>\n",
       "    <tr>\n",
       "      <th>19</th>\n",
       "      <td>7.372366</td>\n",
       "      <td>7.876160</td>\n",
       "      <td>1</td>\n",
       "    </tr>\n",
       "  </tbody>\n",
       "</table>\n",
       "</div>"
      ],
      "text/plain": [
       "          X1        X2  Y\n",
       "0   4.011861  1.674061  0\n",
       "1   4.700434  1.220296  0\n",
       "2   0.639354  1.905050  0\n",
       "3   1.000830  3.683078  0\n",
       "4   1.313663  4.175309  0\n",
       "5   2.078587  0.977523  0\n",
       "6   2.496509  1.537792  0\n",
       "7   1.492593  2.861047  0\n",
       "8   4.843101  1.984147  0\n",
       "9   4.981371  4.275560  0\n",
       "10  0.304906  5.630595  1\n",
       "11  3.560948  0.282047  1\n",
       "12  0.495990  1.279386  1\n",
       "13  6.467659  8.968539  1\n",
       "14  1.087504  6.748963  1\n",
       "15  3.037362  8.563171  1\n",
       "16  8.612253  0.295559  1\n",
       "17  3.517924  4.003783  1\n",
       "18  6.287110  2.736571  1\n",
       "19  7.372366  7.876160  1"
      ]
     },
     "execution_count": 4,
     "metadata": {},
     "output_type": "execute_result"
    }
   ],
   "source": [
    "dataset"
   ]
  },
  {
   "cell_type": "code",
   "execution_count": 5,
   "id": "58dde1ac",
   "metadata": {},
   "outputs": [
    {
     "data": {
      "text/plain": [
       "<matplotlib.legend.Legend at 0x21a046983d0>"
      ]
     },
     "execution_count": 5,
     "metadata": {},
     "output_type": "execute_result"
    },
    {
     "data": {
      "image/png": "[encoded data removed]",
      "text/plain": [
       "<Figure size 640x480 with 1 Axes>"
      ]
     },
     "metadata": {},
     "output_type": "display_data"
    }
   ],
   "source": [
    "plt.plot(dataset,label = 'Inline Label')\n",
    "plt.legend(['X2','X1','Y'])"
   ]
  },
  {
   "cell_type": "code",
   "execution_count": 6,
   "id": "bd95799b",
   "metadata": {},
   "outputs": [],
   "source": [
    "# Convering Target variable to vector of number of classes"
   ]
  },
  {
   "cell_type": "code",
   "execution_count": 7,
   "id": "dd27390d",
   "metadata": {},
   "outputs": [],
   "source": [
    "Z = np.zeros((20,2))\n",
    "for i in range(20):\n",
    "    Z[i,Y[i]]=1"
   ]
  },
  {
   "cell_type": "code",
   "execution_count": 8,
   "id": "a7c432d8",
   "metadata": {},
   "outputs": [
    {
     "data": {
      "text/plain": [
       "(20, 2)"
      ]
     },
     "execution_count": 8,
     "metadata": {},
     "output_type": "execute_result"
    }
   ],
   "source": [
    "X.shape"
   ]
  },
  {
   "cell_type": "code",
   "execution_count": 10,
   "id": "6f347201",
   "metadata": {},
   "outputs": [
    {
     "data": {
      "text/plain": [
       "array([[ 0.08925309,  1.28230651],\n",
       "       [ 2.40183479, -0.07340842],\n",
       "       [-0.13072241,  1.27113592]])"
      ]
     },
     "execution_count": 10,
     "metadata": {},
     "output_type": "execute_result"
    }
   ],
   "source": [
    "Wi_1 = np.random.randn(3,2)\n",
    "Bi_1 = np.random.randn(3)\n",
    "Wi_2 = np.random.randn(3,2)\n",
    "Bi_2 = np.random.randn(2)\n",
    "Wi_1"
   ]
  },
  {
   "cell_type": "code",
   "execution_count": 12,
   "id": "b890570f",
   "metadata": {},
   "outputs": [
    {
     "data": {
      "text/plain": [
       "array([-1.59147028, -1.23601037])"
      ]
     },
     "execution_count": 12,
     "metadata": {},
     "output_type": "execute_result"
    }
   ],
   "source": [
    "Bi_2"
   ]
  },
  {
   "cell_type": "code",
   "execution_count": 13,
   "id": "88a59040",
   "metadata": {},
   "outputs": [
    {
     "data": {
      "text/plain": [
       "array([[-1.3202692 ,  1.13935645],\n",
       "       [ 1.42896403, -0.6634436 ],\n",
       "       [ 1.98705406, -0.27169452]])"
      ]
     },
     "execution_count": 13,
     "metadata": {},
     "output_type": "execute_result"
    }
   ],
   "source": [
    "Wi_2"
   ]
  },
  {
   "cell_type": "code",
   "execution_count": 14,
   "id": "9f26f9cf",
   "metadata": {},
   "outputs": [
    {
     "data": {
      "text/plain": [
       "(20, 2)"
      ]
     },
     "execution_count": 14,
     "metadata": {},
     "output_type": "execute_result"
    }
   ],
   "source": [
    "X.shape"
   ]
  },
  {
   "cell_type": "code",
   "execution_count": 15,
   "id": "8687e2c3",
   "metadata": {},
   "outputs": [
    {
     "data": {
      "text/plain": [
       "array([[ 2.50473039,  9.51293605,  1.60351911],\n",
       "       [ 1.9843218 , 11.20008604,  0.93671004],\n",
       "       [ 2.49992187,  1.39577622,  2.3379991 ],\n",
       "       [ 4.81216256,  2.1334598 ,  4.55086227],\n",
       "       [ 5.47127412,  2.84869936,  5.1356597 ],\n",
       "       [ 1.43900472,  4.92066506,  0.97084691],\n",
       "       [ 2.19474158,  5.88331452,  1.62839278],\n",
       "       [ 3.80195817,  3.37493607,  3.44166475],\n",
       "       [ 2.97654687, 11.48667537,  1.8890192 ],\n",
       "       [ 5.92718173, 11.65056721,  4.78364168],\n",
       "       [ 7.24736216,  0.31900035,  7.11739326],\n",
       "       [ 0.67949688,  8.53210534, -0.10697518],\n",
       "       [ 1.68483323,  1.09736867,  1.56143606],\n",
       "       [12.07767429, 14.87588248, 10.55476383],\n",
       "       [ 8.75130241,  2.11657539,  8.43668814],\n",
       "       [11.2517041 ,  6.66663208, 10.48790323],\n",
       "       [ 1.14766782, 20.66351351, -0.75011851],\n",
       "       [ 5.44806267,  8.15556123,  4.62948091],\n",
       "       [ 4.07026657, 14.89971264,  2.65668725],\n",
       "       [10.75765714, 17.12902893,  9.04793585]])"
      ]
     },
     "execution_count": 15,
     "metadata": {},
     "output_type": "execute_result"
    }
   ],
   "source": [
    "X.dot(Wi_1.T)"
   ]
  },
  {
   "cell_type": "code",
   "execution_count": 16,
   "id": "536c0752",
   "metadata": {},
   "outputs": [],
   "source": [
    "# Defining the forward prpogation function\n"
   ]
  },
  {
   "cell_type": "code",
   "execution_count": 21,
   "id": "576404b1",
   "metadata": {},
   "outputs": [],
   "source": [
    " def forward_prop(X,Wi_1,Bi_1,Wi_2,Bi_2):\n",
    "        # first layer\n",
    "        M = 1/(1+np.exp(-(X.dot(Wi_1.T)+Bi_1)))\n",
    "        # second layer\n",
    "        A = M.dot(Wi_2)+Bi_2\n",
    "        expA = np.exp(A)\n",
    "        Y = expA/expA.sum(axis=1,keepdims=True)\n",
    "        return Y,M"
   ]
  },
  {
   "cell_type": "code",
   "execution_count": 22,
   "id": "8693cfb0",
   "metadata": {},
   "outputs": [
    {
     "data": {
      "text/plain": [
       "(array([[0.5861224 , 0.4138776 ],\n",
       "        [0.57193712, 0.42806288],\n",
       "        [0.55615263, 0.44384737],\n",
       "        [0.74110161, 0.25889839],\n",
       "        [0.78009392, 0.21990608],\n",
       "        [0.63747003, 0.36252997],\n",
       "        [0.61505062, 0.38494938],\n",
       "        [0.72094199, 0.27905801],\n",
       "        [0.58743899, 0.41256101],\n",
       "        [0.79363641, 0.20636359],\n",
       "        [0.62286337, 0.37713663],\n",
       "        [0.68792115, 0.31207885],\n",
       "        [0.51280044, 0.48719956],\n",
       "        [0.82279529, 0.17720471],\n",
       "        [0.77690969, 0.22309031],\n",
       "        [0.82228985, 0.17771015],\n",
       "        [0.60640018, 0.39359982],\n",
       "        [0.7900524 , 0.2099476 ],\n",
       "        [0.6467478 , 0.3532522 ],\n",
       "        [0.8224498 , 0.1775502 ]]),\n",
       " array([[0.83485206, 0.99990388, 0.29424936],\n",
       "        [0.75026091, 0.99998221, 0.17629649],\n",
       "        [0.83418802, 0.75633656, 0.46496888],\n",
       "        [0.98069401, 0.86650249, 0.88820232],\n",
       "        [0.98991886, 0.92993046, 0.93445988],\n",
       "        [0.63522237, 0.99059987, 0.18130861],\n",
       "        [0.7875841 , 0.9963893 , 0.29944109],\n",
       "        [0.94871162, 0.95737925, 0.72378428],\n",
       "        [0.89014561, 0.99998664, 0.35678761],\n",
       "        [0.99358617, 0.99998866, 0.90931406],\n",
       "        [0.99827886, 0.51397703, 0.99042558],\n",
       "        [0.4489731 , 0.99974373, 0.07008863],\n",
       "        [0.69008478, 0.69726148, 0.2855864 ],\n",
       "        [0.99998623, 0.99999955, 0.99968931],\n",
       "        [0.99961696, 0.86453725, 0.99742245],\n",
       "        [0.99996856, 0.99834707, 0.99966784],\n",
       "        [0.56545969, 1.        , 0.03810822],\n",
       "        [0.98968457, 0.9996266 , 0.89577408],\n",
       "        [0.96030208, 0.99999956, 0.54446565],\n",
       "        [0.99994847, 0.99999995, 0.99859958]]))"
      ]
     },
     "execution_count": 22,
     "metadata": {},
     "output_type": "execute_result"
    }
   ],
   "source": [
    "forward_prop(X,Wi_1,Bi_1,Wi_2,Bi_2)"
   ]
  },
  {
   "cell_type": "code",
   "execution_count": 23,
   "id": "f4137201",
   "metadata": {},
   "outputs": [],
   "source": [
    "# Back Prpogation bt differntiating or Gradient Descent"
   ]
  },
  {
   "cell_type": "code",
   "execution_count": 24,
   "id": "b55584e7",
   "metadata": {},
   "outputs": [],
   "source": [
    "def diff_Wi_2(H,Z,Y):\n",
    "    return H.T.dot(Z-Y)"
   ]
  },
  {
   "cell_type": "code",
   "execution_count": null,
   "id": "b91aeea5",
   "metadata": {},
   "outputs": [],
   "source": [
    "def diff_Wi_1(X,H,Z,output,Wi_2):\n",
    "    dZ= (Z-output).dot(Wi_2.T)*H*(1-H)\n",
    "    return X.T.dot(Z)"
   ]
  }
 ],
 "metadata": {
  "kernelspec": {
   "display_name": "Python 3 (ipykernel)",
   "language": "python",
   "name": "python3"
  },
  "language_info": {
   "codemirror_mode": {
    "name": "ipython",
    "version": 3
   },
   "file_extension": ".py",
   "mimetype": "text/x-python",
   "name": "python",
   "nbconvert_exporter": "python",
   "pygments_lexer": "ipython3",
   "version": "3.11.5"
  }
 },
 "nbformat": 4,
 "nbformat_minor": 5
}
