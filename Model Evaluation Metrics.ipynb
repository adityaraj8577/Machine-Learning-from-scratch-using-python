{
 "cells": [
  {
   "cell_type": "markdown",
   "id": "8e9a5ea3",
   "metadata": {},
   "source": [
    "## Confusion Matrix"
   ]
  },
  {
   "cell_type": "code",
   "execution_count": 10,
   "id": "6e6a17c4",
   "metadata": {},
   "outputs": [],
   "source": [
    "import warnings\n",
    "import pandas as pd\n",
    "from sklearn.linear_model import LogisticRegression\n",
    "from sklearn.metrics import confusion_matrix\n",
    "from sklearn import model_selection\n",
    "import matplotlib.pyplot as plt\n",
    "%matplotlib inline"
   ]
  },
  {
   "cell_type": "code",
   "execution_count": 11,
   "id": "f8a93721",
   "metadata": {},
   "outputs": [],
   "source": [
    "# ignore warnings \n",
    "\n",
    "warnings.filterwarnings('ignore')\n",
    "\n",
    "url = \"http://archive.ics.uci.edu/ml/machine-learning-databases/iris/iris.data\"\n",
    "df= pd.read_csv(url)"
   ]
  },
  {
   "cell_type": "code",
   "execution_count": 12,
   "id": "ddd6c44d",
   "metadata": {},
   "outputs": [],
   "source": [
    "X = df.iloc[:,0:4]\n",
    "y = df.iloc[:,4]\n",
    "\n",
    "test_size= 0.33\n",
    "seed=7\n"
   ]
  },
  {
   "cell_type": "code",
   "execution_count": 14,
   "id": "81dfaa0c",
   "metadata": {},
   "outputs": [],
   "source": [
    "X_train,X_test,y_train,y_test = model_selection.train_test_split(X,y,test_size=0.33,random_state=7)"
   ]
  },
  {
   "cell_type": "code",
   "execution_count": 16,
   "id": "8343ae18",
   "metadata": {},
   "outputs": [
    {
     "data": {
      "text/plain": [
       "array(['Iris-virginica', 'Iris-versicolor', 'Iris-setosa',\n",
       "       'Iris-versicolor', 'Iris-virginica', 'Iris-setosa',\n",
       "       'Iris-versicolor', 'Iris-versicolor', 'Iris-setosa',\n",
       "       'Iris-versicolor', 'Iris-versicolor', 'Iris-versicolor',\n",
       "       'Iris-setosa', 'Iris-virginica', 'Iris-setosa', 'Iris-versicolor',\n",
       "       'Iris-virginica', 'Iris-virginica', 'Iris-setosa', 'Iris-setosa',\n",
       "       'Iris-virginica', 'Iris-virginica', 'Iris-versicolor',\n",
       "       'Iris-virginica', 'Iris-virginica', 'Iris-virginica',\n",
       "       'Iris-versicolor', 'Iris-versicolor', 'Iris-virginica',\n",
       "       'Iris-virginica', 'Iris-virginica', 'Iris-versicolor',\n",
       "       'Iris-setosa', 'Iris-virginica', 'Iris-versicolor', 'Iris-setosa',\n",
       "       'Iris-setosa', 'Iris-setosa', 'Iris-setosa', 'Iris-virginica',\n",
       "       'Iris-virginica', 'Iris-virginica', 'Iris-virginica',\n",
       "       'Iris-virginica', 'Iris-versicolor', 'Iris-versicolor',\n",
       "       'Iris-versicolor', 'Iris-versicolor', 'Iris-virginica',\n",
       "       'Iris-setosa'], dtype=object)"
      ]
     },
     "execution_count": 16,
     "metadata": {},
     "output_type": "execute_result"
    }
   ],
   "source": [
    "# Train model\n",
    "model = LogisticRegression()\n",
    "model.fit(X_train,y_train)\n",
    "pred = model.predict(X_test)\n",
    "pred"
   ]
  },
  {
   "cell_type": "code",
   "execution_count": 19,
   "id": "58d95d2f",
   "metadata": {},
   "outputs": [
    {
     "name": "stdout",
     "output_type": "stream",
     "text": [
      "[[18  0  0]\n",
      " [ 2 17  0]\n",
      " [ 0  0 13]]\n"
     ]
    },
    {
     "data": {
      "image/png": "[encoded data removed]",
      "text/plain": [
       "<Figure size 640x480 with 2 Axes>"
      ]
     },
     "metadata": {},
     "output_type": "display_data"
    }
   ],
   "source": [
    "# Confusion matrix\n",
    "labels = ['Iris-virginica', 'Iris-versicolor', 'Iris-setosa']\n",
    "cm = confusion_matrix(y_test,pred,labels=labels)\n",
    "print(cm)\n",
    "fig = plt.figure()\n",
    "ax = fig.add_subplot(111)\n",
    "\n",
    "cax = ax.matshow(cm)\n",
    "plt.title('Confusion matrix')\n",
    "fig.colorbar(cax)\n",
    "plt.show()"
   ]
  },
  {
   "cell_type": "markdown",
   "id": "5a4ba3e1",
   "metadata": {},
   "source": [
    "# Accuracy "
   ]
  },
  {
   "cell_type": "code",
   "execution_count": 20,
   "id": "27b9c7ec",
   "metadata": {},
   "outputs": [],
   "source": [
    "import warnings\n",
    "import pandas as pd\n",
    "import numpy as np\n",
    "from sklearn import model_selection\n",
    "from sklearn.linear_model import LogisticRegression\n",
    "from sklearn import datasets\n",
    "from sklearn.metrics import accuracy_score"
   ]
  },
  {
   "cell_type": "code",
   "execution_count": 21,
   "id": "9c4e6827",
   "metadata": {},
   "outputs": [],
   "source": [
    "warnings.filterwarnings('ignore')\n",
    "\n",
    "iris = datasets.load_iris()\n",
    "X= iris.data\n",
    "y = iris.target\n",
    "test_size=0.33\n"
   ]
  },
  {
   "cell_type": "code",
   "execution_count": 25,
   "id": "99b0df4d",
   "metadata": {},
   "outputs": [
    {
     "name": "stdout",
     "output_type": "stream",
     "text": [
      "Accuracy -val set: 94.67% (0.06)\n"
     ]
    }
   ],
   "source": [
    "# cross validation settings\n",
    "kfold = model_selection.KFold(n_splits=10)\n",
    "\n",
    "model = LogisticRegression()\n",
    "\n",
    "scoring = 'accuracy'\n",
    "results = model_selection.cross_val_score(model,X,y,cv = kfold,scoring=scoring)\n",
    "print('Accuracy -val set: %.2f%% (%.2f)' % (results.mean()*100, results.std()))\n"
   ]
  },
  {
   "cell_type": "code",
   "execution_count": 26,
   "id": "33e83f3e",
   "metadata": {},
   "outputs": [],
   "source": [
    "X_train,X_test,y_train,y_test = model_selection.train_test_split(X,y,test_size=0.33,random_state=7)\n"
   ]
  },
  {
   "cell_type": "code",
   "execution_count": 27,
   "id": "37662f2f",
   "metadata": {},
   "outputs": [
    {
     "name": "stdout",
     "output_type": "stream",
     "text": [
      "Accuracy - test set: 92.00%\n"
     ]
    }
   ],
   "source": [
    "model.fit(X_train,y_train)\n",
    "\n",
    "result= model.score(X_test,y_test)\n",
    "print(\"Accuracy - test set: %.2f%%\" % (result*100.0))"
   ]
  },
  {
   "cell_type": "markdown",
   "id": "4619f778",
   "metadata": {},
   "source": [
    "# F1 Score"
   ]
  },
  {
   "cell_type": "code",
   "execution_count": 29,
   "id": "86888c8d",
   "metadata": {},
   "outputs": [],
   "source": [
    "import warnings\n",
    "import pandas as pd\n",
    "from sklearn import model_selection\n",
    "from sklearn.linear_model import LogisticRegression\n",
    "from sklearn.metrics import log_loss\n",
    "from sklearn.metrics import precision_recall_fscore_support as score,precision_score,recall_score,f1_score\n"
   ]
  },
  {
   "cell_type": "code",
   "execution_count": 43,
   "id": "1e8f9c62",
   "metadata": {},
   "outputs": [
    {
     "data": {
      "text/plain": [
       "array([[1.00e+00, 8.50e+01, 6.60e+01, ..., 3.51e-01, 3.10e+01, 0.00e+00],\n",
       "       [8.00e+00, 1.83e+02, 6.40e+01, ..., 6.72e-01, 3.20e+01, 1.00e+00],\n",
       "       [1.00e+00, 8.90e+01, 6.60e+01, ..., 1.67e-01, 2.10e+01, 0.00e+00],\n",
       "       ...,\n",
       "       [5.00e+00, 1.21e+02, 7.20e+01, ..., 2.45e-01, 3.00e+01, 0.00e+00],\n",
       "       [1.00e+00, 1.26e+02, 6.00e+01, ..., 3.49e-01, 4.70e+01, 1.00e+00],\n",
       "       [1.00e+00, 9.30e+01, 7.00e+01, ..., 3.15e-01, 2.30e+01, 0.00e+00]])"
      ]
     },
     "execution_count": 43,
     "metadata": {},
     "output_type": "execute_result"
    }
   ],
   "source": [
    "warnings.filterwarnings('ignore')\n",
    "url = \"https://raw.githubusercontent.com/jbrownlee/Datasets/master/pima-indians-diabetes.data.csv\"\n",
    "dataframe = pd.read_csv(url)\n",
    "dat = dataframe.values\n",
    "dat"
   ]
  },
  {
   "cell_type": "code",
   "execution_count": 46,
   "id": "a0f6bae4",
   "metadata": {},
   "outputs": [],
   "source": [
    "X = dat[:,:-1]\n",
    "y = dat[:,-1]\n",
    "test_size = 0.33\n",
    "seed=7\n",
    "model = LogisticRegression()\n",
    "X_train,X_test,y_train,y_test = model_selection.train_test_split(X,y,test_size=0.33,random_state=seed)\n",
    "model.fit(X_train,y_train)\n",
    "pred = model.predict(X_test)\n",
    "precision = precision_score(y_test,pred)\n",
    "recall = recall_score(y_test,pred)\n",
    "f1 = f1_score(y_test,pred)"
   ]
  },
  {
   "cell_type": "code",
   "execution_count": 47,
   "id": "59f91e31",
   "metadata": {},
   "outputs": [
    {
     "name": "stdout",
     "output_type": "stream",
     "text": [
      "Precision: 0.701493\n",
      "Recall: 0.552941\n",
      "F1 score: 0.618421\n"
     ]
    }
   ],
   "source": [
    "print('Precision: %f' % precision)\n",
    "print('Recall: %f' % recall)\n",
    "print('F1 score: %f' % f1)\n"
   ]
  },
  {
   "cell_type": "markdown",
   "id": "7b7e4051",
   "metadata": {},
   "source": [
    "# ROC (Receiver Operating Characterstics)"
   ]
  },
  {
   "cell_type": "code",
   "execution_count": 48,
   "id": "71a8db3f",
   "metadata": {},
   "outputs": [],
   "source": [
    "import warnings\n",
    "import pandas as pd\n",
    "from sklearn import model_selection\n",
    "from sklearn.linear_model import LogisticRegression\n",
    "from sklearn.metrics import roc_auc_score,roc_curve"
   ]
  },
  {
   "cell_type": "code",
   "execution_count": 51,
   "id": "a6975fb5",
   "metadata": {},
   "outputs": [],
   "source": [
    "warnings.filterwarnings('ignore')\n",
    "url = \"https://raw.githubusercontent.com/jbrownlee/Datasets/master/pima-indians-diabetes.data.csv\"\n",
    "\n",
    "df = pd.read_csv(url)\n",
    "dat = df.values\n",
    "X = dat[:,:-1]\n",
    "y = dat[:,-1]\n",
    "seed=7\n"
   ]
  },
  {
   "cell_type": "code",
   "execution_count": 52,
   "id": "df5af34c",
   "metadata": {},
   "outputs": [],
   "source": [
    "X_train,X_test,y_train,y_test = model_selection.train_test_split(X,y,test_size=0.33,random_state=7)"
   ]
  },
  {
   "cell_type": "code",
   "execution_count": 54,
   "id": "4f8daf00",
   "metadata": {},
   "outputs": [],
   "source": [
    "model.fit(X_train,y_train)\n",
    "\n",
    "probs = model.predict_proba(X_test)\n",
    "#predict() would output class 0 since the class probability for 0 is 0.6.\n",
    "# [0.6, 0.2, 0.2] is the output of predict_proba that simply denotes that the class probability for classes 0, 1, and 2 are 0.6, 0.2, and 0.2 respectively.\n"
   ]
  },
  {
   "cell_type": "code",
   "execution_count": 55,
   "id": "9390d87b",
   "metadata": {},
   "outputs": [
    {
     "name": "stdout",
     "output_type": "stream",
     "text": [
      "AUC - Test Set: 82.85%\n"
     ]
    },
    {
     "data": {
      "text/plain": [
       "[<matplotlib.lines.Line2D at 0x1cbafa0aa10>]"
      ]
     },
     "execution_count": 55,
     "metadata": {},
     "output_type": "execute_result"
    },
    {
     "data": {
      "image/png": "[encoded data removed]",
      "text/plain": [
       "<Figure size 640x480 with 1 Axes>"
      ]
     },
     "metadata": {},
     "output_type": "display_data"
    }
   ],
   "source": [
    "probs = probs[:,1]\n",
    "auc = roc_auc_score(y_test,probs)\n",
    "print('AUC - Test Set: %.2f%%' % (auc*100))\n",
    "\n",
    "fpr,tpr,thresholds = roc_curve(y_test,probs)\n",
    "\n",
    "plt.plot([0,1],[0,1],linestyle='--')\n",
    "plt.plot(fpr,tpr,marker='.')"
   ]
  },
  {
   "cell_type": "code",
   "execution_count": null,
   "id": "0562355a",
   "metadata": {},
   "outputs": [],
   "source": []
  }
 ],
 "metadata": {
  "kernelspec": {
   "display_name": "Python 3 (ipykernel)",
   "language": "python",
   "name": "python3"
  },
  "language_info": {
   "codemirror_mode": {
    "name": "ipython",
    "version": 3
   },
   "file_extension": ".py",
   "mimetype": "text/x-python",
   "name": "python",
   "nbconvert_exporter": "python",
   "pygments_lexer": "ipython3",
   "version": "3.11.5"
  }
 },
 "nbformat": 4,
 "nbformat_minor": 5
}
